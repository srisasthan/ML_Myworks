{
 "cells": [
  {
   "cell_type": "markdown",
   "metadata": {},
   "source": [
    "# Task 1:"
   ]
  },
  {
   "cell_type": "markdown",
   "metadata": {},
   "source": [
    "1. Write a function to compute 5/0 and use try/except to catch the exceptions."
   ]
  },
  {
   "cell_type": "code",
   "execution_count": 2,
   "metadata": {},
   "outputs": [
    {
     "name": "stdout",
     "output_type": "stream",
     "text": [
      "ZeroDivisionError Exception\n",
      "End of function\n"
     ]
    }
   ],
   "source": [
    "def TryExceptfunction(p1, p2):\n",
    "    try:\n",
    "        result =  p1 / p2\n",
    "        print(\"No exception=\", result)\n",
    "    except ZeroDivisionError:\n",
    "        print(\"ZeroDivisionError Exception\")\n",
    "    except:\n",
    "        print(\"Other Exception\")\n",
    "    finally:\n",
    "        print(\"End of function\")\n",
    "        \n",
    "TryExceptfunction(5,0)"
   ]
  },
  {
   "cell_type": "markdown",
   "metadata": {},
   "source": [
    "2. Implement a Python program to generate all sentences where subject is in [\"Americans\", \"Indians\"] and verb is in [\"Play\", \"watch\"] and the object is in [\"Baseball\",\"cricket\"]."
   ]
  },
  {
   "cell_type": "code",
   "execution_count": 3,
   "metadata": {},
   "outputs": [
    {
     "name": "stdout",
     "output_type": "stream",
     "text": [
      "Americans play Baseball\n",
      "Americans play Cricket\n",
      "Americans watch Baseball\n",
      "Americans watch Cricket\n",
      "Indians play Baseball\n",
      "Indians play Cricket\n",
      "Indians watch Baseball\n",
      "Indians watch Cricket\n",
      "\n"
     ]
    }
   ],
   "source": [
    "subjects=[\"Americans\",\"Indians\"]\n",
    "verbs=[\"play\",\"watch\"]\n",
    "objects=[\"Baseball\",\"Cricket\"]\n",
    "\n",
    "#First method to print the output\n",
    "for i in subjects:\n",
    "    for j in verbs:\n",
    "        for k in objects:\n",
    "            print(i, j, k)\n",
    "print()"
   ]
  },
  {
   "cell_type": "markdown",
   "metadata": {},
   "source": [
    "# Task 2:"
   ]
  },
  {
   "cell_type": "markdown",
   "metadata": {},
   "source": [
    "2. Write a function so that the columns of the output matrix are powers of the input vector.\n",
    "\n",
    "The order of the powers is determined by the increasing boolean argument. Specifically, when increasing is False, the i-th output column is the input vector raised element-wise to the power of N - i - 1.\n",
    "\n",
    "HINT: Such a matrix with a geometric progression in each row is named for Alexandre Theophile Vandermonde."
   ]
  },
  {
   "cell_type": "code",
   "execution_count": 4,
   "metadata": {},
   "outputs": [
    {
     "name": "stdout",
     "output_type": "stream",
     "text": [
      "Given Matrix is \n",
      "1 1 1 1 1 \n",
      "2 2 2 2 2 \n",
      "3 3 3 3 3 \n",
      "4 4 4 4 4 \n",
      "5 5 5 5 5 \n",
      "\n",
      "Given input vector is  [0, 1, 2, 3, 4]\n",
      "\n",
      "The output Matrix is : \n",
      "1 1 1 1 1 \n",
      "1 2 4 8 16 \n",
      "1 3 9 27 81 \n",
      "1 4 16 64 256 \n",
      "1 5 25 125 625 \n"
     ]
    }
   ],
   "source": [
    "def matrixFunction(lstvector):\n",
    "    matrix = [[1, 1, 1, 1, 1],[2, 2, 2, 2, 2], [3, 3, 3, 3, 3], [4, 4, 4, 4, 4],[5, 5, 5, 5, 5]]\n",
    "\n",
    "    print(\"Given Matrix is \")\n",
    "    for i in range(len(matrix)): \n",
    "        for j in range(len(matrix[1])): \n",
    "            print(matrix[i][j], end = \" \") \n",
    "        print()\n",
    "    print()\n",
    "    print(\"Given input vector is \", lstvector)\n",
    "    print()\n",
    "    print(\"The output Matrix is : \")\n",
    "    for i in range(len(matrix)): \n",
    "        for j in range(len(matrix[1])): \n",
    "            print(matrix[i][j]**lstvector[j], end = \" \") \n",
    "        print()\n",
    "\n",
    "lstvector = [0,1,2,3,4]\n",
    "matrixFunction(lstvector)"
   ]
  }
 ],
 "metadata": {
  "kernelspec": {
   "display_name": "Python 3",
   "language": "python",
   "name": "python3"
  },
  "language_info": {
   "codemirror_mode": {
    "name": "ipython",
    "version": 3
   },
   "file_extension": ".py",
   "mimetype": "text/x-python",
   "name": "python",
   "nbconvert_exporter": "python",
   "pygments_lexer": "ipython3",
   "version": "3.7.3"
  }
 },
 "nbformat": 4,
 "nbformat_minor": 2
}
